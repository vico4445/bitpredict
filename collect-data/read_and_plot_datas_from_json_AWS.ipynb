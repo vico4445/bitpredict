{
 "cells": [
  {
   "cell_type": "code",
   "execution_count": 221,
   "metadata": {},
   "outputs": [],
   "source": [
    "import pandas as pd\n",
    "import json\n",
    "import plotly.plotly as py\n",
    "import plotly.graph_objs as go\n",
    "import datetime\n",
    "import time\n",
    "import numpy as np\n",
    "import matplotlib.pyplot as plt"
   ]
  },
  {
   "cell_type": "code",
   "execution_count": 222,
   "metadata": {},
   "outputs": [],
   "source": [
    "in_file = \"btc_candles_5m.json\"\n",
    "data = json.load(open(in_file))"
   ]
  },
  {
   "cell_type": "markdown",
   "metadata": {},
   "source": [
    "## Convert datas to integers"
   ]
  },
  {
   "cell_type": "code",
   "execution_count": 223,
   "metadata": {},
   "outputs": [
    {
     "name": "stdout",
     "output_type": "stream",
     "text": [
      "(11731, 6)\n"
     ]
    },
    {
     "data": {
      "text/html": [
       "<div>\n",
       "<style scoped>\n",
       "    .dataframe tbody tr th:only-of-type {\n",
       "        vertical-align: middle;\n",
       "    }\n",
       "\n",
       "    .dataframe tbody tr th {\n",
       "        vertical-align: top;\n",
       "    }\n",
       "\n",
       "    .dataframe thead th {\n",
       "        text-align: right;\n",
       "    }\n",
       "</style>\n",
       "<table border=\"1\" class=\"dataframe\">\n",
       "  <thead>\n",
       "    <tr style=\"text-align: right;\">\n",
       "      <th></th>\n",
       "      <th>mts</th>\n",
       "      <th>open</th>\n",
       "      <th>close</th>\n",
       "      <th>high</th>\n",
       "      <th>low</th>\n",
       "      <th>volume</th>\n",
       "    </tr>\n",
       "  </thead>\n",
       "  <tbody>\n",
       "    <tr>\n",
       "      <th>0</th>\n",
       "      <td>{'S': '1523301900000'}</td>\n",
       "      <td>{'S': '6736.86545369'}</td>\n",
       "      <td>{'S': '6721.09229148'}</td>\n",
       "      <td>{'S': '6738'}</td>\n",
       "      <td>{'S': '6721'}</td>\n",
       "      <td>{'S': '45.99811741'}</td>\n",
       "    </tr>\n",
       "    <tr>\n",
       "      <th>1</th>\n",
       "      <td>{'S': '1522028700000'}</td>\n",
       "      <td>{'S': '8392.6'}</td>\n",
       "      <td>{'S': '8393.1'}</td>\n",
       "      <td>{'S': '8401'}</td>\n",
       "      <td>{'S': '8373.1'}</td>\n",
       "      <td>{'S': '194.66606906'}</td>\n",
       "    </tr>\n",
       "    <tr>\n",
       "      <th>2</th>\n",
       "      <td>{'S': '1523130300000'}</td>\n",
       "      <td>{'S': '6975.4'}</td>\n",
       "      <td>{'S': '6985.1'}</td>\n",
       "      <td>{'S': '6986.5'}</td>\n",
       "      <td>{'S': '6972.4'}</td>\n",
       "      <td>{'S': '38.48893769'}</td>\n",
       "    </tr>\n",
       "    <tr>\n",
       "      <th>3</th>\n",
       "      <td>{'S': '1522638900000'}</td>\n",
       "      <td>{'S': '6953.8'}</td>\n",
       "      <td>{'S': '6952.8'}</td>\n",
       "      <td>{'S': '6958.9'}</td>\n",
       "      <td>{'S': '6942'}</td>\n",
       "      <td>{'S': '98.21134936'}</td>\n",
       "    </tr>\n",
       "    <tr>\n",
       "      <th>4</th>\n",
       "      <td>{'S': '1524631800000'}</td>\n",
       "      <td>{'S': '9250'}</td>\n",
       "      <td>{'S': '9263.6'}</td>\n",
       "      <td>{'S': '9276'}</td>\n",
       "      <td>{'S': '9200.5'}</td>\n",
       "      <td>{'S': '924.07442798'}</td>\n",
       "    </tr>\n",
       "  </tbody>\n",
       "</table>\n",
       "</div>"
      ],
      "text/plain": [
       "                      mts                    open                   close  \\\n",
       "0  {'S': '1523301900000'}  {'S': '6736.86545369'}  {'S': '6721.09229148'}   \n",
       "1  {'S': '1522028700000'}         {'S': '8392.6'}         {'S': '8393.1'}   \n",
       "2  {'S': '1523130300000'}         {'S': '6975.4'}         {'S': '6985.1'}   \n",
       "3  {'S': '1522638900000'}         {'S': '6953.8'}         {'S': '6952.8'}   \n",
       "4  {'S': '1524631800000'}           {'S': '9250'}         {'S': '9263.6'}   \n",
       "\n",
       "              high              low                 volume  \n",
       "0    {'S': '6738'}    {'S': '6721'}   {'S': '45.99811741'}  \n",
       "1    {'S': '8401'}  {'S': '8373.1'}  {'S': '194.66606906'}  \n",
       "2  {'S': '6986.5'}  {'S': '6972.4'}   {'S': '38.48893769'}  \n",
       "3  {'S': '6958.9'}    {'S': '6942'}   {'S': '98.21134936'}  \n",
       "4    {'S': '9276'}  {'S': '9200.5'}  {'S': '924.07442798'}  "
      ]
     },
     "execution_count": 223,
     "metadata": {},
     "output_type": "execute_result"
    }
   ],
   "source": [
    "df = pd.DataFrame(data['Items'], columns=['mts', 'open', 'close', 'high', 'low', 'volume'])\n",
    "print(df.shape)\n",
    "df.head()"
   ]
  },
  {
   "cell_type": "code",
   "execution_count": 224,
   "metadata": {},
   "outputs": [],
   "source": [
    "# Convert values to numeric\n",
    "df = df.applymap(lambda x: x.get('S'))\n",
    "df = df.apply(pd.to_numeric)"
   ]
  },
  {
   "cell_type": "code",
   "execution_count": 225,
   "metadata": {},
   "outputs": [],
   "source": [
    "# Convert timestamp to datetime\n",
    "df['mts'] = df['mts'].apply(lambda x: datetime.datetime.fromtimestamp(x/1000).strftime('%Y-%m-%d %H:%M:%S'))\n",
    "df['mts'] = pd.to_datetime(df['mts'])"
   ]
  },
  {
   "cell_type": "code",
   "execution_count": 226,
   "metadata": {},
   "outputs": [
    {
     "data": {
      "text/html": [
       "<div>\n",
       "<style scoped>\n",
       "    .dataframe tbody tr th:only-of-type {\n",
       "        vertical-align: middle;\n",
       "    }\n",
       "\n",
       "    .dataframe tbody tr th {\n",
       "        vertical-align: top;\n",
       "    }\n",
       "\n",
       "    .dataframe thead th {\n",
       "        text-align: right;\n",
       "    }\n",
       "</style>\n",
       "<table border=\"1\" class=\"dataframe\">\n",
       "  <thead>\n",
       "    <tr style=\"text-align: right;\">\n",
       "      <th></th>\n",
       "      <th>mts</th>\n",
       "      <th>open</th>\n",
       "      <th>close</th>\n",
       "      <th>high</th>\n",
       "      <th>low</th>\n",
       "      <th>volume</th>\n",
       "    </tr>\n",
       "  </thead>\n",
       "  <tbody>\n",
       "    <tr>\n",
       "      <th>114</th>\n",
       "      <td>2018-04-25 20:05:00</td>\n",
       "      <td>9030.8</td>\n",
       "      <td>9006.8</td>\n",
       "      <td>9030.8</td>\n",
       "      <td>8990.00000</td>\n",
       "      <td>197.015641</td>\n",
       "    </tr>\n",
       "    <tr>\n",
       "      <th>7179</th>\n",
       "      <td>2018-04-25 20:00:00</td>\n",
       "      <td>9048.0</td>\n",
       "      <td>9030.7</td>\n",
       "      <td>9048.0</td>\n",
       "      <td>9030.00000</td>\n",
       "      <td>80.329649</td>\n",
       "    </tr>\n",
       "    <tr>\n",
       "      <th>5738</th>\n",
       "      <td>2018-04-25 19:55:00</td>\n",
       "      <td>9049.2</td>\n",
       "      <td>9047.4</td>\n",
       "      <td>9049.3</td>\n",
       "      <td>9038.90000</td>\n",
       "      <td>105.584278</td>\n",
       "    </tr>\n",
       "    <tr>\n",
       "      <th>4023</th>\n",
       "      <td>2018-04-25 19:50:00</td>\n",
       "      <td>9040.0</td>\n",
       "      <td>9049.1</td>\n",
       "      <td>9050.6</td>\n",
       "      <td>9028.00000</td>\n",
       "      <td>119.028502</td>\n",
       "    </tr>\n",
       "    <tr>\n",
       "      <th>11695</th>\n",
       "      <td>2018-04-25 19:45:00</td>\n",
       "      <td>9074.2</td>\n",
       "      <td>9040.1</td>\n",
       "      <td>9074.7</td>\n",
       "      <td>9035.71864</td>\n",
       "      <td>286.068958</td>\n",
       "    </tr>\n",
       "  </tbody>\n",
       "</table>\n",
       "</div>"
      ],
      "text/plain": [
       "                      mts    open   close    high         low      volume\n",
       "114   2018-04-25 20:05:00  9030.8  9006.8  9030.8  8990.00000  197.015641\n",
       "7179  2018-04-25 20:00:00  9048.0  9030.7  9048.0  9030.00000   80.329649\n",
       "5738  2018-04-25 19:55:00  9049.2  9047.4  9049.3  9038.90000  105.584278\n",
       "4023  2018-04-25 19:50:00  9040.0  9049.1  9050.6  9028.00000  119.028502\n",
       "11695 2018-04-25 19:45:00  9074.2  9040.1  9074.7  9035.71864  286.068958"
      ]
     },
     "execution_count": 226,
     "metadata": {},
     "output_type": "execute_result"
    }
   ],
   "source": [
    "df.sort_values(by=['mts'],ascending=False).head()"
   ]
  },
  {
   "cell_type": "markdown",
   "metadata": {},
   "source": [
    "## Plot Datas"
   ]
  },
  {
   "cell_type": "code",
   "execution_count": 227,
   "metadata": {},
   "outputs": [
    {
     "name": "stdout",
     "output_type": "stream",
     "text": [
      "High five! You successfully sent some data to your account on plotly. View your plot in your browser at https://plot.ly/~Vico49/0 or inside your plot.ly account where it is named 'simple_candlestick'\n"
     ]
    },
    {
     "data": {
      "text/html": [
       "<iframe id=\"igraph\" scrolling=\"no\" style=\"border:none;\" seamless=\"seamless\" src=\"https://plot.ly/~Vico49/0.embed\" height=\"525px\" width=\"100%\"></iframe>"
      ],
      "text/plain": [
       "<plotly.tools.PlotlyDisplay object>"
      ]
     },
     "execution_count": 227,
     "metadata": {},
     "output_type": "execute_result"
    }
   ],
   "source": [
    "# Plot datas\n",
    "trace = go.Candlestick(x=df['mts'],\n",
    "                       open=df['open'],\n",
    "                       high=df['high'],\n",
    "                       low=df['low'],\n",
    "                       close=df['close'])\n",
    "\n",
    "layout = go.Layout(\n",
    "    xaxis = dict(\n",
    "        rangeslider = dict(\n",
    "            visible = False\n",
    "        )\n",
    "    )\n",
    ")\n",
    "\n",
    "data = [trace]\n",
    "\n",
    "fig = go.Figure(data=data,layout=layout)\n",
    "py.iplot(fig, filename='simple_candlestick')"
   ]
  },
  {
   "cell_type": "markdown",
   "metadata": {},
   "source": [
    "## Clear Datas"
   ]
  },
  {
   "cell_type": "code",
   "execution_count": 204,
   "metadata": {},
   "outputs": [
    {
     "data": {
      "text/html": [
       "<div>\n",
       "<style scoped>\n",
       "    .dataframe tbody tr th:only-of-type {\n",
       "        vertical-align: middle;\n",
       "    }\n",
       "\n",
       "    .dataframe tbody tr th {\n",
       "        vertical-align: top;\n",
       "    }\n",
       "\n",
       "    .dataframe thead th {\n",
       "        text-align: right;\n",
       "    }\n",
       "</style>\n",
       "<table border=\"1\" class=\"dataframe\">\n",
       "  <thead>\n",
       "    <tr style=\"text-align: right;\">\n",
       "      <th></th>\n",
       "      <th>mts</th>\n",
       "      <th>open</th>\n",
       "      <th>close</th>\n",
       "      <th>high</th>\n",
       "      <th>low</th>\n",
       "      <th>volume</th>\n",
       "    </tr>\n",
       "  </thead>\n",
       "  <tbody>\n",
       "    <tr>\n",
       "      <th>0</th>\n",
       "      <td>2018-02-18 16:05:00</td>\n",
       "      <td>10715.0</td>\n",
       "      <td>10724.0</td>\n",
       "      <td>10725.000000</td>\n",
       "      <td>10711.0</td>\n",
       "      <td>32.736687</td>\n",
       "    </tr>\n",
       "    <tr>\n",
       "      <th>1</th>\n",
       "      <td>2018-02-18 16:10:00</td>\n",
       "      <td>10725.0</td>\n",
       "      <td>10766.0</td>\n",
       "      <td>10790.000000</td>\n",
       "      <td>10724.0</td>\n",
       "      <td>292.561490</td>\n",
       "    </tr>\n",
       "    <tr>\n",
       "      <th>2</th>\n",
       "      <td>2018-02-18 16:15:00</td>\n",
       "      <td>10767.0</td>\n",
       "      <td>10820.0</td>\n",
       "      <td>10855.421627</td>\n",
       "      <td>10766.0</td>\n",
       "      <td>481.227888</td>\n",
       "    </tr>\n",
       "    <tr>\n",
       "      <th>3</th>\n",
       "      <td>2018-02-18 16:20:00</td>\n",
       "      <td>10819.0</td>\n",
       "      <td>10811.0</td>\n",
       "      <td>10830.000000</td>\n",
       "      <td>10784.0</td>\n",
       "      <td>154.277705</td>\n",
       "    </tr>\n",
       "    <tr>\n",
       "      <th>4</th>\n",
       "      <td>2018-02-18 16:25:00</td>\n",
       "      <td>10811.0</td>\n",
       "      <td>10791.0</td>\n",
       "      <td>10811.000000</td>\n",
       "      <td>10740.0</td>\n",
       "      <td>247.345571</td>\n",
       "    </tr>\n",
       "  </tbody>\n",
       "</table>\n",
       "</div>"
      ],
      "text/plain": [
       "                  mts     open    close          high      low      volume\n",
       "0 2018-02-18 16:05:00  10715.0  10724.0  10725.000000  10711.0   32.736687\n",
       "1 2018-02-18 16:10:00  10725.0  10766.0  10790.000000  10724.0  292.561490\n",
       "2 2018-02-18 16:15:00  10767.0  10820.0  10855.421627  10766.0  481.227888\n",
       "3 2018-02-18 16:20:00  10819.0  10811.0  10830.000000  10784.0  154.277705\n",
       "4 2018-02-18 16:25:00  10811.0  10791.0  10811.000000  10740.0  247.345571"
      ]
     },
     "metadata": {},
     "output_type": "display_data"
    }
   ],
   "source": [
    "df_sorted = df.sort_values('mts', axis=0)\n",
    "df_sorted = df_sorted.reset_index(drop=True)\n",
    "display(df_sorted.head())"
   ]
  },
  {
   "cell_type": "markdown",
   "metadata": {},
   "source": [
    "#### En regardant les différences temporelles on va supprimer toutes les données inutilisables au début (trop d'écarts entre les données)"
   ]
  },
  {
   "cell_type": "code",
   "execution_count": 207,
   "metadata": {
    "scrolled": true
   },
   "outputs": [
    {
     "data": {
      "text/html": [
       "<div>\n",
       "<style scoped>\n",
       "    .dataframe tbody tr th:only-of-type {\n",
       "        vertical-align: middle;\n",
       "    }\n",
       "\n",
       "    .dataframe tbody tr th {\n",
       "        vertical-align: top;\n",
       "    }\n",
       "\n",
       "    .dataframe thead th {\n",
       "        text-align: right;\n",
       "    }\n",
       "</style>\n",
       "<table border=\"1\" class=\"dataframe\">\n",
       "  <thead>\n",
       "    <tr style=\"text-align: right;\">\n",
       "      <th></th>\n",
       "      <th>mts1</th>\n",
       "      <th>mts2</th>\n",
       "      <th>diff</th>\n",
       "    </tr>\n",
       "  </thead>\n",
       "  <tbody>\n",
       "    <tr>\n",
       "      <th>177</th>\n",
       "      <td>2018-02-19 06:50:00</td>\n",
       "      <td>2018-03-09 11:55:00</td>\n",
       "      <td>18 days 05:05:00</td>\n",
       "    </tr>\n",
       "    <tr>\n",
       "      <th>222</th>\n",
       "      <td>2018-03-09 15:35:00</td>\n",
       "      <td>2018-03-14 16:25:00</td>\n",
       "      <td>5 days 00:50:00</td>\n",
       "    </tr>\n",
       "    <tr>\n",
       "      <th>225</th>\n",
       "      <td>2018-03-14 16:35:00</td>\n",
       "      <td>2018-03-14 17:45:00</td>\n",
       "      <td>0 days 01:10:00</td>\n",
       "    </tr>\n",
       "    <tr>\n",
       "      <th>272</th>\n",
       "      <td>2018-03-14 21:35:00</td>\n",
       "      <td>2018-03-15 12:20:00</td>\n",
       "      <td>0 days 14:45:00</td>\n",
       "    </tr>\n",
       "    <tr>\n",
       "      <th>279</th>\n",
       "      <td>2018-03-15 12:50:00</td>\n",
       "      <td>2018-03-15 19:55:00</td>\n",
       "      <td>0 days 07:05:00</td>\n",
       "    </tr>\n",
       "    <tr>\n",
       "      <th>281</th>\n",
       "      <td>2018-03-15 20:00:00</td>\n",
       "      <td>2018-03-15 20:10:00</td>\n",
       "      <td>0 days 00:10:00</td>\n",
       "    </tr>\n",
       "    <tr>\n",
       "      <th>287</th>\n",
       "      <td>2018-03-15 20:35:00</td>\n",
       "      <td>2018-03-15 21:00:00</td>\n",
       "      <td>0 days 00:25:00</td>\n",
       "    </tr>\n",
       "    <tr>\n",
       "      <th>1890</th>\n",
       "      <td>2018-03-21 10:30:00</td>\n",
       "      <td>2018-03-21 13:25:00</td>\n",
       "      <td>0 days 02:55:00</td>\n",
       "    </tr>\n",
       "    <tr>\n",
       "      <th>2905</th>\n",
       "      <td>2018-03-25 01:55:00</td>\n",
       "      <td>2018-03-25 03:00:00</td>\n",
       "      <td>0 days 01:05:00</td>\n",
       "    </tr>\n",
       "    <tr>\n",
       "      <th>7898</th>\n",
       "      <td>2018-04-11 11:00:00</td>\n",
       "      <td>2018-04-11 12:35:00</td>\n",
       "      <td>0 days 01:35:00</td>\n",
       "    </tr>\n",
       "    <tr>\n",
       "      <th>9172</th>\n",
       "      <td>2018-04-15 22:40:00</td>\n",
       "      <td>2018-04-16 23:00:00</td>\n",
       "      <td>1 days 00:20:00</td>\n",
       "    </tr>\n",
       "  </tbody>\n",
       "</table>\n",
       "</div>"
      ],
      "text/plain": [
       "                    mts1                mts2             diff\n",
       "177  2018-02-19 06:50:00 2018-03-09 11:55:00 18 days 05:05:00\n",
       "222  2018-03-09 15:35:00 2018-03-14 16:25:00  5 days 00:50:00\n",
       "225  2018-03-14 16:35:00 2018-03-14 17:45:00  0 days 01:10:00\n",
       "272  2018-03-14 21:35:00 2018-03-15 12:20:00  0 days 14:45:00\n",
       "279  2018-03-15 12:50:00 2018-03-15 19:55:00  0 days 07:05:00\n",
       "281  2018-03-15 20:00:00 2018-03-15 20:10:00  0 days 00:10:00\n",
       "287  2018-03-15 20:35:00 2018-03-15 21:00:00  0 days 00:25:00\n",
       "1890 2018-03-21 10:30:00 2018-03-21 13:25:00  0 days 02:55:00\n",
       "2905 2018-03-25 01:55:00 2018-03-25 03:00:00  0 days 01:05:00\n",
       "7898 2018-04-11 11:00:00 2018-04-11 12:35:00  0 days 01:35:00\n",
       "9172 2018-04-15 22:40:00 2018-04-16 23:00:00  1 days 00:20:00"
      ]
     },
     "metadata": {},
     "output_type": "display_data"
    }
   ],
   "source": [
    "def observations_not_5minutes_long(x):\n",
    "    # Do substraction between one observation time stamp and the one before\n",
    "    diff = (x['mts'][1:] - x['mts'][0:-1])[1:]\n",
    "    h_decal = np.vstack((x['mts'][0:-1], x['mts'][1:])).transpose()\n",
    "    df_decal = pd.DataFrame(h_decal, columns=['mts1', 'mts2'])\n",
    "    df_decal['diff'] = [(row['mts2'] - row['mts1']) for index, row in df_decal.iterrows()]\n",
    "    display(df_decal[(df_decal['diff'] != df_decal['diff'][0])])\n",
    "observations_not_5minutes_long(df_sorted)"
   ]
  },
  {
   "cell_type": "markdown",
   "metadata": {},
   "source": [
    "#####  ==> On enlève les données avant le 2018-03-15 21:00:00"
   ]
  },
  {
   "cell_type": "code",
   "execution_count": null,
   "metadata": {},
   "outputs": [],
   "source": [
    "df_without_begining = df_sorted.iloc[288:]\n",
    "df_without_begining = df_without_begining.reset_index(drop=True)\n",
    "\n",
    "display(df_without_begining.head())"
   ]
  },
  {
   "cell_type": "code",
   "execution_count": 220,
   "metadata": {},
   "outputs": [
    {
     "data": {
      "image/png": "[encoded data removed]",
      "text/plain": [
       "<matplotlib.figure.Figure at 0x2474ab45048>"
      ]
     },
     "metadata": {},
     "output_type": "display_data"
    }
   ],
   "source": [
    "# Check With plots\n",
    "plt.subplot(2, 1, 1)\n",
    "plt.plot(df_sorted['mts'], np.ones(len(df_sorted['mts'])), '.')\n",
    "plt.title('Initial datetime distribution')\n",
    "\n",
    "plt.subplot(2, 1, 2)\n",
    "plt.plot(df_without_begining['mts'], np.ones(len(df_without_begining['mts'])), '.')\n",
    "plt.title('Cleared datetime distribution')\n",
    "\n",
    "plt.tight_layout()\n",
    "plt.show()"
   ]
  },
  {
   "cell_type": "markdown",
   "metadata": {},
   "source": [
    "### Modify datas to get more usefull ones"
   ]
  },
  {
   "cell_type": "markdown",
   "metadata": {},
   "source": [
    "#### Use differences between open and close, max, min rather than absolute values"
   ]
  },
  {
   "cell_type": "code",
   "execution_count": null,
   "metadata": {},
   "outputs": [],
   "source": []
  },
  {
   "cell_type": "markdown",
   "metadata": {},
   "source": [
    "## Modeles"
   ]
  },
  {
   "cell_type": "markdown",
   "metadata": {},
   "source": [
    "### Méthode classsique sans prise en compte de la temporalité"
   ]
  },
  {
   "cell_type": "code",
   "execution_count": 17,
   "metadata": {},
   "outputs": [
    {
     "data": {
      "text/html": [
       "<div>\n",
       "<style scoped>\n",
       "    .dataframe tbody tr th:only-of-type {\n",
       "        vertical-align: middle;\n",
       "    }\n",
       "\n",
       "    .dataframe tbody tr th {\n",
       "        vertical-align: top;\n",
       "    }\n",
       "\n",
       "    .dataframe thead th {\n",
       "        text-align: right;\n",
       "    }\n",
       "</style>\n",
       "<table border=\"1\" class=\"dataframe\">\n",
       "  <thead>\n",
       "    <tr style=\"text-align: right;\">\n",
       "      <th></th>\n",
       "      <th>mts</th>\n",
       "      <th>open</th>\n",
       "      <th>close</th>\n",
       "      <th>high</th>\n",
       "      <th>low</th>\n",
       "      <th>volume</th>\n",
       "    </tr>\n",
       "  </thead>\n",
       "  <tbody>\n",
       "    <tr>\n",
       "      <th>0</th>\n",
       "      <td>2018-04-09 21:25:00</td>\n",
       "      <td>6736.865454</td>\n",
       "      <td>6721.092291</td>\n",
       "      <td>6738.0</td>\n",
       "      <td>6721.0</td>\n",
       "      <td>45.998117</td>\n",
       "    </tr>\n",
       "    <tr>\n",
       "      <th>1</th>\n",
       "      <td>2018-03-26 03:45:00</td>\n",
       "      <td>8392.600000</td>\n",
       "      <td>8393.100000</td>\n",
       "      <td>8401.0</td>\n",
       "      <td>8373.1</td>\n",
       "      <td>194.666069</td>\n",
       "    </tr>\n",
       "    <tr>\n",
       "      <th>2</th>\n",
       "      <td>2018-04-07 21:45:00</td>\n",
       "      <td>6975.400000</td>\n",
       "      <td>6985.100000</td>\n",
       "      <td>6986.5</td>\n",
       "      <td>6972.4</td>\n",
       "      <td>38.488938</td>\n",
       "    </tr>\n",
       "    <tr>\n",
       "      <th>3</th>\n",
       "      <td>2018-04-02 05:15:00</td>\n",
       "      <td>6953.800000</td>\n",
       "      <td>6952.800000</td>\n",
       "      <td>6958.9</td>\n",
       "      <td>6942.0</td>\n",
       "      <td>98.211349</td>\n",
       "    </tr>\n",
       "    <tr>\n",
       "      <th>4</th>\n",
       "      <td>2018-04-25 06:50:00</td>\n",
       "      <td>9250.000000</td>\n",
       "      <td>9263.600000</td>\n",
       "      <td>9276.0</td>\n",
       "      <td>9200.5</td>\n",
       "      <td>924.074428</td>\n",
       "    </tr>\n",
       "  </tbody>\n",
       "</table>\n",
       "</div>"
      ],
      "text/plain": [
       "                  mts         open        close    high     low      volume\n",
       "0 2018-04-09 21:25:00  6736.865454  6721.092291  6738.0  6721.0   45.998117\n",
       "1 2018-03-26 03:45:00  8392.600000  8393.100000  8401.0  8373.1  194.666069\n",
       "2 2018-04-07 21:45:00  6975.400000  6985.100000  6986.5  6972.4   38.488938\n",
       "3 2018-04-02 05:15:00  6953.800000  6952.800000  6958.9  6942.0   98.211349\n",
       "4 2018-04-25 06:50:00  9250.000000  9263.600000  9276.0  9200.5  924.074428"
      ]
     },
     "execution_count": 17,
     "metadata": {},
     "output_type": "execute_result"
    }
   ],
   "source": [
    "df.head()"
   ]
  }
 ],
 "metadata": {
  "kernelspec": {
   "display_name": "Python 3",
   "language": "python",
   "name": "python3"
  },
  "language_info": {
   "codemirror_mode": {
    "name": "ipython",
    "version": 3
   },
   "file_extension": ".py",
   "mimetype": "text/x-python",
   "name": "python",
   "nbconvert_exporter": "python",
   "pygments_lexer": "ipython3",
   "version": "3.6.4"
  }
 },
 "nbformat": 4,
 "nbformat_minor": 2
}
